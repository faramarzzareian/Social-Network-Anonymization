{
 "cells": [
  {
   "cell_type": "code",
   "execution_count": 1,
   "metadata": {},
   "outputs": [],
   "source": [
    "import networkx as nx\n",
    "import itertools\n",
    "from random import choice\n",
    "import pandas as pd\n",
    "import matplotlib.pyplot as plt\n",
    "from statistics import median\n",
    "from sys import stderr\n",
    "from math import inf"
   ]
  },
  {
   "cell_type": "code",
   "execution_count": 2,
   "metadata": {},
   "outputs": [],
   "source": [
    "def vertex_ref(g, i):\n",
    "    neighbors = {n: all_neighbours(g, n, i-1) for n in g.nodes()}\n",
    "    degs = {}\n",
    "    for k,v in neighbors.items():\n",
    "        if i == 0:\n",
    "            degs[k] = [0]\n",
    "        else:\n",
    "            degs[k] = sorted([g.degree(n) for n in v])\n",
    "\n",
    "    print('  Vertex Ref[{} i] {:.3%}\\t\\r'.format(i, (list(neighbors.keys()).index(k) + 1)/len(neighbors.items())), file=stderr, end='')\n",
    "    print()\n",
    "    return degs\n",
    "\n",
    "\n",
    "def all_neighbours(g, start, k):\n",
    "    nbrs = set([start])\n",
    "    for i in range(k):\n",
    "        nbrs = set((nbr for n in nbrs for nbr in g[n]))\n",
    "    return nbrs\n",
    "\n",
    "def edge_facts_subgraph(g, g_pert, edge_facts):\n",
    "    degs = {}\n",
    "    nodes_number = len(g.nodes) * len(g_pert.nodes)\n",
    "\n",
    "    i = 0\n",
    "    for start in g.nodes:\n",
    "        fact = all_subgraphs(g, edge_facts, start)\n",
    "        degs[start] = []\n",
    "        for node in g_pert.nodes:\n",
    "            subgraph = all_subgraphs(g_pert, edge_facts, node)\n",
    "            if nx.is_isomorphic(fact, subgraph):\n",
    "                    degs[start].append(node)          \n",
    "            i += 1\n",
    "    print('Edge Facts[{} edges] {:.3%}\\t\\r'.format(edge_facts, i/nodes_number), file=stderr, end='')\n",
    "    \n",
    "    print()\n",
    "    return degs\n",
    "\n",
    "\n",
    "def all_subgraphs(g, edge_facts, start):\n",
    "    graph = nx.Graph()\n",
    "    graph.add_node(start)\n",
    "\n",
    "    for node, edges in nx.bfs_successors(g, start):\n",
    "        for edge in edges:\n",
    "            if edge_facts == 0:\n",
    "                break\n",
    "\n",
    "            graph.add_edge(node, edge)\n",
    "            edge_facts -= 1\n",
    "\n",
    "    return graph\n",
    "\n",
    "def read_graph(path, name):\n",
    "    g = nx.read_edgelist(path)\n",
    "    g.name = name\n",
    "    return g\n",
    "\n",
    "def create_scale_free_graph(n):\n",
    "    g = nx.scale_free_graph(n)\n",
    "    g.name = 'scale-free-{}'.format(n)\n",
    "    return nx.Graph(g)\n",
    "\n",
    "def draw_graph(g, pert, layout):\n",
    "    p = int(pert*100)\n",
    "    nx.draw_networkx(g, pos=layout, node_size=5, font_size=2, font_color='b', arrowsize=3)\n",
    "    plt.draw()\n",
    "    plt.savefig('img/pert_{}.png'.format(p), dpi=500)\n",
    "    plt.close()\n",
    "\n",
    "def giant_comp(g):\n",
    "    return max((g.subgraph(c) for c in nx.connected_components(g)), key=len)\n",
    "def get_measurements(g):\n",
    "    infos = pd.Series()\n",
    "    infos['nodes'] = len(g)\n",
    "    infos['edges'] = len(g.edges())\n",
    "    infos['diameter'] = nx.diameter(giant_comp(g))\n",
    "    infos['betweenness'] = median(nx.betweenness_centrality(g).values())\n",
    "    infos['clustering'] = median(nx.clustering(g).values())\n",
    "    infos['components'] = nx.number_connected_components(g)\n",
    "    infos['closeness'] = median(nx.closeness_centrality(g).values())\n",
    "    return infos\n",
    "\n",
    "def perturbation(graph, p):\n",
    "    g = graph.copy()\n",
    "    edges_to_remove = int(len(g.edges()) * p)\n",
    "    removed_edges = []\n",
    "    for i in range(edges_to_remove):\n",
    "        random_edge = choice(list(g.edges()))\n",
    "        g.remove_edges_from([random_edge])\n",
    "        removed_edges.append(random_edge)\n",
    "    while(edges_to_remove > 0):\n",
    "        first_node = choice(list(g.nodes()))\n",
    "        second_node = choice(list(g.nodes()))\n",
    "        if(second_node == first_node):\n",
    "            continue\n",
    "        if g.has_edge(first_node, second_node) or (first_node, second_node) in removed_edges or (second_node, first_node) in removed_edges:\n",
    "            continue\n",
    "        else:\n",
    "            g.add_edge(first_node, second_node)\n",
    "            edges_to_remove -= 1\n",
    "    return g\n",
    "\n",
    "\n",
    "def deanonymize_vertexref(g, pert_g, i):\n",
    "    vertexref = vertex_ref(g, i)\n",
    "    vertexref_pert = vertex_ref(pert_g, i)\n",
    "    eq = eq_class(vertexref)\n",
    "    eq_pert = eq_class(vertexref_pert)\n",
    "    result_eq = {}\n",
    "    for index in range(0, max(len(eq), len(eq_pert))):\n",
    "        result = []\n",
    "        if index < len(eq_pert):\n",
    "            for value in eq_pert[index]:\n",
    "                if index < len(eq): \n",
    "                    if value in eq[index]:\n",
    "                        result.append(value)\n",
    "            result_eq[index] = result\n",
    "    return deanonymize(result_eq.values(), len(pert_g.nodes))\n",
    "\n",
    "\n",
    "def deanonymize_edgefacts(g, pert_g, edge_facts):\n",
    "    edgefacts = edge_facts_subgraph(g, pert_g, edge_facts)\n",
    "    eq = eq_class(edgefacts)\n",
    "\n",
    "    return deanonymize(eq, len(pert_g.nodes))\n",
    "def deanonymize(eq, nodes_number):\n",
    "    out = {}    \n",
    "    out['20-∞'] = get_k_anonimity_range(eq,21,inf) / nodes_number\n",
    "    out['11-20']  = get_k_anonimity_range(eq,11,20)  / nodes_number\n",
    "    out['5-10']   = get_k_anonimity_range(eq,5,10)   / nodes_number\n",
    "    out['2-4']    = get_k_anonimity_range(eq,2,4)    / nodes_number\n",
    "    out['1']      = get_k_anonimity_range(eq,1,1)    / nodes_number\n",
    "    return out\n",
    "def eq_class(facts: dict):\n",
    "    eq_class = {}\n",
    "    for key, degrees in facts.items():\n",
    "        k = tuple(sorted(degrees))\n",
    "        \n",
    "        if k not in eq_class:\n",
    "            eq_class[k] = []\n",
    "        eq_class[k].append(key)\n",
    "    return list(eq_class.values())\n",
    "\n",
    "def get_k_anonimity_range(vals, minv, maxv):\n",
    "    result = 0\n",
    "    if len(vals) > 0:\n",
    "        for value in vals:\n",
    "            if len(value) >= minv and len(value) <= maxv:\n",
    "                result += len(value)\n",
    "    return result"
   ]
  },
  {
   "cell_type": "code",
   "execution_count": null,
   "metadata": {
    "scrolled": false
   },
   "outputs": [
    {
     "name": "stdout",
     "output_type": "stream",
     "text": [
      "\n",
      "Perturbation (0%)\n"
     ]
    },
    {
     "name": "stderr",
     "output_type": "stream",
     "text": [
      "  Vertex Ref[1 i] 100.000%\t\r",
      "  Vertex Ref[1 i] 100.000%\t\r"
     ]
    },
    {
     "name": "stdout",
     "output_type": "stream",
     "text": [
      "\n",
      "\n"
     ]
    },
    {
     "name": "stderr",
     "output_type": "stream",
     "text": [
      "  Vertex Ref[2 i] 100.000%\t\r"
     ]
    },
    {
     "name": "stdout",
     "output_type": "stream",
     "text": [
      "\n"
     ]
    },
    {
     "name": "stderr",
     "output_type": "stream",
     "text": [
      "  Vertex Ref[2 i] 100.000%\t\r"
     ]
    },
    {
     "name": "stdout",
     "output_type": "stream",
     "text": [
      "\n"
     ]
    },
    {
     "name": "stderr",
     "output_type": "stream",
     "text": [
      "  Vertex Ref[3 i] 100.000%\t\r"
     ]
    },
    {
     "name": "stdout",
     "output_type": "stream",
     "text": [
      "\n"
     ]
    },
    {
     "name": "stderr",
     "output_type": "stream",
     "text": [
      "  Vertex Ref[3 i] 100.000%\t\r"
     ]
    },
    {
     "name": "stdout",
     "output_type": "stream",
     "text": [
      "\n"
     ]
    },
    {
     "name": "stderr",
     "output_type": "stream",
     "text": [
      "  Vertex Ref[4 i] 100.000%\t\r"
     ]
    },
    {
     "name": "stdout",
     "output_type": "stream",
     "text": [
      "\n"
     ]
    }
   ],
   "source": [
    "#g =  create_scale_free_graph(100)\n",
    "g = read_graph('enron.txt','eron')\n",
    "def draw_edge_factor(ef, pert):\n",
    "    for i in range (0, 5):\n",
    "        x, y = zip(*ef[i].items())        \n",
    "        plt.plot(x, y, label=\"edge_facts=\" + str((i+1) * 10))\n",
    "    plt.title(\"Perturbation: {:.0%}\".format(pert))\n",
    "    plt.legend()\n",
    "    plt.savefig('img/edge_facts_pert_{}.png'.format(int(pert * 100)), dpi=500)        \n",
    "    plt.close()\n",
    "def draw_vrtx_rf(vr, pert):\n",
    "    for i in range (0, 5):\n",
    "        x, y = zip(*vr[i].items())        \n",
    "        plt.plot(x, y,label=\"i=\" + str(i))\n",
    "    plt.title(\"Perturbation: {:.0%}\".format(pert))\n",
    "    plt.legend()\n",
    "    plt.savefig('img/vertex_ref_pert_{}.png'.format(int(pert * 100)), dpi=500)        \n",
    "    plt.close() \n",
    "vr_range = [1, 2, 3, 4, 5]\n",
    "ef_range = [10, 20, 30, 40, 50]\n",
    "for pert in [0, 0.02, 0.05, 0.1]:\n",
    "    print('\\nPerturbation ({:.0%})'.format(pert))\n",
    "    pert_g = perturbation(g, pert)\n",
    "    vr = [deanonymize_vertexref(g, pert_g, i) for i in vr_range]\n",
    "    ef = [deanonymize_edgefacts(g, pert_g, n) for n in ef_range]\n",
    "    draw_vrtx_rf(vr, pert)\n",
    "    draw_edge_factor(ef, pert)\n",
    "    draw_graph(pert_g, pert, nx.spring_layout(g))\n",
    "    print(get_measurements(pert_g))\n",
    "\n",
    "print(\"Executed successfully\")"
   ]
  },
  {
   "cell_type": "code",
   "execution_count": null,
   "metadata": {},
   "outputs": [],
   "source": [
    "g =  create_scale_free_graph(100)\n",
    "print(get_measurements(g))"
   ]
  },
  {
   "cell_type": "code",
   "execution_count": null,
   "metadata": {},
   "outputs": [],
   "source": []
  }
 ],
 "metadata": {
  "kernelspec": {
   "display_name": "Python 3",
   "language": "python",
   "name": "python3"
  },
  "language_info": {
   "codemirror_mode": {
    "name": "ipython",
    "version": 3
   },
   "file_extension": ".py",
   "mimetype": "text/x-python",
   "name": "python",
   "nbconvert_exporter": "python",
   "pygments_lexer": "ipython3",
   "version": "3.7.4"
  }
 },
 "nbformat": 4,
 "nbformat_minor": 2
}
